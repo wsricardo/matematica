{
 "cells": [
  {
   "cell_type": "markdown",
   "id": "9d689629-11c8-4d7c-a99d-50ea65d94b2b",
   "metadata": {},
   "source": [
    "# Cálculo Com Python"
   ]
  },
  {
   "cell_type": "markdown",
   "id": "384caac9-c36f-44db-98b8-66f4eea0ed9b",
   "metadata": {},
   "source": [
    "## Biblioteca Python para Cálculos"
   ]
  },
  {
   "cell_type": "code",
   "execution_count": 14,
   "id": "60127608-b334-4162-90e1-e1985c1faae8",
   "metadata": {},
   "outputs": [],
   "source": [
    "from math import *\n",
    "import numpy as np\n",
    "import scipy as sp\n",
    "from sympy import *\n",
    "import matplotlib.pyplot as plt\n",
    "from IPython.display import display, Math, Latex, Markdown"
   ]
  },
  {
   "cell_type": "markdown",
   "id": "a5ffb9eb-df26-4b83-92e7-32f528509454",
   "metadata": {
    "tags": []
   },
   "source": [
    "## Limite & Derivada"
   ]
  },
  {
   "cell_type": "markdown",
   "id": "e871d7ad-1031-46c0-8cdc-9c5c64388a94",
   "metadata": {},
   "source": [
    "### Definições"
   ]
  },
  {
   "cell_type": "markdown",
   "id": "4210af8c-af34-41b3-8644-16a03a4b70bd",
   "metadata": {},
   "source": [
    "#### Limite"
   ]
  },
  {
   "cell_type": "markdown",
   "id": "1c6e5f1d-6a10-411d-88ea-098c65487934",
   "metadata": {},
   "source": [
    "Intuitivamente definimos o limite $L$ como um valor para o qual uma função $f(x)$ se aproxima quando $x$ se aproxima de um número $a$."
   ]
  },
  {
   "cell_type": "markdown",
   "id": "5b3afdd5-85d1-41a3-871d-487040b76c34",
   "metadata": {},
   "source": [
    "$$\\lim_{x \\to a} f(x) = L$$"
   ]
  },
  {
   "cell_type": "markdown",
   "id": "d7bc8a44-cf6a-4db4-a701-16cffbd4c3d6",
   "metadata": {},
   "source": [
    "Suponhamos que temos $a \\in \\mathbb{R}$, onde $a = 1$ e $f(x) = x^2$.\n",
    "\n",
    "Abaixo criamos váriavel \"a\" e \"dx\". A variável $dx$ tera uma lista de valores que serão os incrementos usados em $x$ para $x \\to a$, e portanto $x - a  \\to 0$. \n",
    "\n",
    "Neste contexto tomaremos $x - a = dx$."
   ]
  },
  {
   "cell_type": "code",
   "execution_count": 15,
   "id": "686be9df-5ee6-4232-81e4-0d11e395cdbe",
   "metadata": {},
   "outputs": [
    {
     "name": "stdout",
     "output_type": "stream",
     "text": [
      "Lista de valores de incremento dx= [1.0, 0.1, 0.01, 0.001, 0.0001, 1e-05]\n"
     ]
    }
   ],
   "source": [
    "x = symbols('x')\n",
    "a = 1.0\n",
    "dx = [ a/10.0**i for i in range(0,6) ]\n",
    "\n",
    "print('Lista de valores de incremento dx=', dx)\n",
    "\n"
   ]
  },
  {
   "cell_type": "markdown",
   "id": "95147b6b-c5af-4fc9-b499-817bdba77fc1",
   "metadata": {},
   "source": [
    "Abaixo função que retorna uma lista de valores para $f(x)$ com base em $dx$."
   ]
  },
  {
   "cell_type": "code",
   "execution_count": 16,
   "id": "7af81ee5-e4f3-4a3f-a1a2-c6a01381e960",
   "metadata": {},
   "outputs": [],
   "source": [
    "# Retorna uma tabela com valolres de f(x) com x cada vez mais próximo de a.       \n",
    "def lim(f, a, dx ):\n",
    "    return [  [ a + j, f( a + j ) ] for j in dx   ]"
   ]
  },
  {
   "cell_type": "code",
   "execution_count": 17,
   "id": "2f21f8b9-061b-4fd5-b7c7-35175f544401",
   "metadata": {},
   "outputs": [
    {
     "data": {
      "text/markdown": [
       "$a$ = 1.0 Limite quando $x$ tende à $a$ de $f(x)$."
      ],
      "text/plain": [
       "<IPython.core.display.Markdown object>"
      ]
     },
     "metadata": {},
     "output_type": "display_data"
    },
    {
     "data": {
      "text/markdown": [
       "$a$ = 2.0, $f(2.0)$ = $4.0$"
      ],
      "text/plain": [
       "<IPython.core.display.Markdown object>"
      ]
     },
     "metadata": {},
     "output_type": "display_data"
    },
    {
     "data": {
      "text/markdown": [
       "$a$ = 1.1, $f(1.1)$ = $1.2100000000000002$"
      ],
      "text/plain": [
       "<IPython.core.display.Markdown object>"
      ]
     },
     "metadata": {},
     "output_type": "display_data"
    },
    {
     "data": {
      "text/markdown": [
       "$a$ = 1.01, $f(1.01)$ = $1.0201$"
      ],
      "text/plain": [
       "<IPython.core.display.Markdown object>"
      ]
     },
     "metadata": {},
     "output_type": "display_data"
    },
    {
     "data": {
      "text/markdown": [
       "$a$ = 1.001, $f(1.001)$ = $1.0020009999999997$"
      ],
      "text/plain": [
       "<IPython.core.display.Markdown object>"
      ]
     },
     "metadata": {},
     "output_type": "display_data"
    },
    {
     "data": {
      "text/markdown": [
       "$a$ = 1.0001, $f(1.0001)$ = $1.00020001$"
      ],
      "text/plain": [
       "<IPython.core.display.Markdown object>"
      ]
     },
     "metadata": {},
     "output_type": "display_data"
    },
    {
     "data": {
      "text/markdown": [
       "$a$ = 1.00001, $f(1.00001)$ = $1.0000200001000001$"
      ],
      "text/plain": [
       "<IPython.core.display.Markdown object>"
      ]
     },
     "metadata": {},
     "output_type": "display_data"
    }
   ],
   "source": [
    "display(Markdown(r'$a$ = {} Limite quando $x$ tende à $a$ de $f(x)$.'.format(a) ) )\n",
    "for k in lim(lambda x: x**2, a, dx):\n",
    "    display(Markdown(f'$a$ = {k[0] }, $f({k[0]})$ = ${k[1]}$') )"
   ]
  },
  {
   "cell_type": "markdown",
   "id": "5bb656cf-a498-46fe-a6a5-fa4b2f91cd2b",
   "metadata": {
    "tags": []
   },
   "source": [
    "Pela tabela criada pelo trecho de código acima vemos a função $f(x)$ se aproximar de $1$."
   ]
  },
  {
   "cell_type": "markdown",
   "id": "32ef6bd9-78bc-4db2-aae7-4752018ccc8c",
   "metadata": {},
   "source": [
    "Usando o módulo \"simpy\" para computação simbólica temos,"
   ]
  },
  {
   "cell_type": "code",
   "execution_count": 18,
   "id": "90046b2c-00cb-43d8-822a-1484698991ee",
   "metadata": {},
   "outputs": [
    {
     "data": {
      "text/markdown": [
       " Limite de $f(x) = x^2$ quando x tende à 1, assim $\\lim_{x \\to 1} x^2$ = 1"
      ],
      "text/plain": [
       "<IPython.core.display.Markdown object>"
      ]
     },
     "metadata": {},
     "output_type": "display_data"
    }
   ],
   "source": [
    "display(Markdown(r' Limite de $f(x) = x^2$ quando x tende à 1, assim $\\lim_{x \\to 1} x^2$ = ' + f'{limit( x**2, x, 1 )}'))"
   ]
  },
  {
   "cell_type": "markdown",
   "id": "45d9cfc3-1166-4126-877b-fd7ed6eafe70",
   "metadata": {},
   "source": [
    "Usamos a função _limit_ do módulo _Sympy_ de computação simbólica para calcular o limite de $f(x)$ quando x tende à $1$.\n"
   ]
  },
  {
   "cell_type": "code",
   "execution_count": 19,
   "id": "d53e4fb6-ff54-4fb1-911f-c4ae9c15a2b2",
   "metadata": {},
   "outputs": [
    {
     "data": {
      "text/latex": [
       "$\\displaystyle 1$"
      ],
      "text/plain": [
       "1"
      ]
     },
     "execution_count": 19,
     "metadata": {},
     "output_type": "execute_result"
    }
   ],
   "source": [
    "limit(x**2, x, 1)"
   ]
  },
  {
   "cell_type": "markdown",
   "id": "8efca1bb-71e1-4f8c-8852-5ac022efb370",
   "metadata": {},
   "source": [
    "#### Derivadas e Limite"
   ]
  },
  {
   "cell_type": "markdown",
   "id": "fd47d7cc-6b7f-446b-b14a-b12d5f9094b4",
   "metadata": {},
   "source": [
    "Seja $f(x) = y$ uma função real, sua derivada $f'(x)$ é dada como o limite,\n",
    "\n",
    "$$ \\lim_{\\Delta x \\to 0 } \\frac{f(x + \\Delta x) - f(x)}{\\Delta x} = L,$$\n",
    "\n",
    "ao qual associa-se a inclinação da reta tangente no ponto $(x,f(x) )$ de $f$.\n",
    "\n"
   ]
  },
  {
   "cell_type": "markdown",
   "id": "8cc16db2-ac36-45de-af89-c925d0375f77",
   "metadata": {},
   "source": [
    "Este limite está associado a variação da razão $\\Delta y / \\Delta x$, que é a inclinação da reta secante pelos pontos $(x_1, y_1)$ e $(x_2, y_2)$ onde $\\Delta y = y_2 - y_1$ e $\\Delta x = x_2 - x_1 $. Se dado um ponto $(a, b)$ desejamos obter a inclinação da reta tangente em $(a , b)$ tomamos pois um incremento $\\Delta x$ em $x$ tal que tenhamos os pontos $(a, f(a) )$ e $( a + \\Delta x, f( a + \\Delta x) )$ para o qual a inclinação da secante será,\n",
    "\n",
    "$$ \\frac{ \\Delta y}{\\Delta x} = \\frac{ f(a + \\Delta x) - f(a) }{ (a + \\Delta x ) - a } = \\frac{f(a + \\Delta x ) - f(a) }{ \\Delta x}.$$\n",
    "\n",
    "Ou seja, para um $x \\in \\mathbb{R}$ qualquer, teremos\n",
    "\n",
    "$$ f'(x) = \\lim_{\\Delta x \\to 0} \\frac{f( x + \\Delta x) - f(x) }{ \\Delta x} $$\n",
    "\n",
    "que nos fornecerá a inclinação da tangente a partir do limite da secante quando $\\Delta x \\to 0$. Então $f'(a)$ nos dará a inclinação, coeficiente angular, da reta tangente em $(a, b)$, com $b=f(a)$."
   ]
  },
  {
   "cell_type": "markdown",
   "id": "de0b0356-ada1-4f08-9271-6cbdb43bb3ca",
   "metadata": {},
   "source": [
    "Podemos ver o limite de $\\frac{\\Delta y}{ \\Delta x }$ como uma medida de quão rápido f(x) varia a medida que alteramos x por incremento $\\Delta x$, onde $\\Delta x \\in \\mathbb{R}$ e $\\Delta x \\to 0$, ou seja, valores de $\\Delta x$ cada vez menores quanto se desejar, aproximando-se de _zero_."
   ]
  },
  {
   "cell_type": "markdown",
   "id": "9435ce3d-919b-40a5-83ad-c0edf7e94b9b",
   "metadata": {},
   "source": [
    "Na linha abaixo calculamos a derivada de $f(x) = sin(x)/x$ usando a função **diff** do módulo _Sympy_."
   ]
  },
  {
   "cell_type": "code",
   "execution_count": 20,
   "id": "ba7befa8-15cf-4337-a735-534c50bb7cd9",
   "metadata": {},
   "outputs": [
    {
     "data": {
      "text/latex": [
       "$\\displaystyle \\frac{\\cos{\\left(x \\right)}}{x} - \\frac{\\sin{\\left(x \\right)}}{x^{2}}$"
      ],
      "text/plain": [
       "cos(x)/x - sin(x)/x**2"
      ]
     },
     "execution_count": 20,
     "metadata": {},
     "output_type": "execute_result"
    }
   ],
   "source": [
    "diff( sin(x)/x, x)"
   ]
  },
  {
   "cell_type": "markdown",
   "id": "a2d45511-eaa6-486c-a90a-2a65162a7d5f",
   "metadata": {},
   "source": [
    "Obtendo a derivada de $f(x) = x^2$ e valor de $f'(2)$."
   ]
  },
  {
   "cell_type": "code",
   "execution_count": 21,
   "id": "a12e4765-153f-45f0-8559-a11d2b67b13d",
   "metadata": {},
   "outputs": [
    {
     "data": {
      "text/latex": [
       "$\\displaystyle 2 x$"
      ],
      "text/plain": [
       "2*x"
      ]
     },
     "execution_count": 21,
     "metadata": {},
     "output_type": "execute_result"
    }
   ],
   "source": [
    "f = diff(x**2, x)\n",
    "f"
   ]
  },
  {
   "cell_type": "code",
   "execution_count": 22,
   "id": "90247b82-066e-45d4-befd-8bae657c74c5",
   "metadata": {},
   "outputs": [
    {
     "data": {
      "text/latex": [
       "$\\displaystyle 2$"
      ],
      "text/plain": [
       "2"
      ]
     },
     "execution_count": 22,
     "metadata": {},
     "output_type": "execute_result"
    }
   ],
   "source": [
    "f.subs(x, 1)\n"
   ]
  },
  {
   "cell_type": "markdown",
   "id": "f3994cb8-d065-4da9-9a2f-87a2b4885a66",
   "metadata": {},
   "source": [
    "[Para regras de cálculo de limite e derivadas vide James Steawart, V. 1](#1)"
   ]
  },
  {
   "cell_type": "markdown",
   "id": "8e0b0815-898d-4ac0-89c4-4dba3b8f1a8a",
   "metadata": {
    "tags": []
   },
   "source": [
    "## Códigos"
   ]
  },
  {
   "cell_type": "markdown",
   "id": "8eda009f-3fe4-4410-8a1a-f78415dfea4c",
   "metadata": {},
   "source": [
    "Dada variável $x$ real, com $x \\in [-5.0,5.0]$ dada a seguir."
   ]
  },
  {
   "cell_type": "code",
   "execution_count": 23,
   "id": "67430d64-6d2f-4992-b4fd-56a9c3ff8af2",
   "metadata": {},
   "outputs": [],
   "source": [
    "x = np.arange(-5.0, 5.0, 0.2)"
   ]
  },
  {
   "cell_type": "markdown",
   "id": "f974784d-252f-482d-b8dc-18402c1efe73",
   "metadata": {},
   "source": [
    "Vamos agora visualizar o gráfico de $f(x) = x^2$ e de sua reta tangente no ponto $ (2, 4) $ onde a equação da reta tangente tem inclinação obtida de,\n",
    "\n",
    "$$f'(a) = \\frac{d f(a)}{dx}$$\n",
    "\n",
    "e dada por \n",
    "\n",
    "$$ y = f'(a)(x - a) + f(a) $$\n",
    "\n",
    "onde $a \\in \\mathbb{R}$ têm-se o ponto $(a, f(a) )$ um ponto de $f$ no qual desejamos obter a tangente."
   ]
  },
  {
   "cell_type": "code",
   "execution_count": 24,
   "id": "86468468-8c6b-4e62-9e1d-8d844f719376",
   "metadata": {},
   "outputs": [
    {
     "data": {
      "text/plain": [
       "Text(2, -5, '$y = 4(x-2) + 4$')"
      ]
     },
     "execution_count": 24,
     "metadata": {},
     "output_type": "execute_result"
    },
    {
     "data": {
      "image/png": "[encoded data removed]",
      "text/plain": [
       "<Figure size 600x400 with 1 Axes>"
      ]
     },
     "metadata": {},
     "output_type": "display_data"
    }
   ],
   "source": [
    "#plt.plot(x,x**2)\n",
    "fig, ax = plt.subplots(figsize=(6,4), )\n",
    "ax.plot(x, x**2)\n",
    "ax.plot(x, 4*(x-2)+4)\n",
    "ax.plot(2.0, 4.0, 'o')\n",
    "ax.set_xlabel('x')\n",
    "ax.set_ylabel('y')\n",
    "ax.text(0, 20, r'$f(x) = x^2$')\n",
    "ax.text(2, -5, r'$y = 4(x-2) + 4$')"
   ]
  },
  {
   "cell_type": "markdown",
   "id": "ba3e1a3a-f634-4e69-9099-48bef286cdf8",
   "metadata": {},
   "source": [
    "$ y = f'(a)(x - a) + f(a) $ tangente a função  $ f(x) = x^2$"
   ]
  },
  {
   "cell_type": "markdown",
   "id": "712e2fe7-0f39-4b69-9648-7448b30bdba9",
   "metadata": {},
   "source": [
    "<br>"
   ]
  },
  {
   "cell_type": "markdown",
   "id": "e1b79a05-9e13-433f-bc2d-5be2ed9dbae7",
   "metadata": {},
   "source": [
    "### Referências"
   ]
  },
  {
   "cell_type": "markdown",
   "id": "e974d935-3e42-4a76-a472-5e84f25d490d",
   "metadata": {},
   "source": [
    "<hr>"
   ]
  },
  {
   "cell_type": "markdown",
   "id": "d0993ff3-66a8-4843-9ff1-eb2866b26caa",
   "metadata": {},
   "source": [
    "- Cálculo, V. 1 e 2, James Stewart; <a id=\"1\"></a>\n",
    "- Calculus and Analytic Geometry, George B. Thomas;\n",
    "- Calculus, Piskounov;"
   ]
  },
  {
   "cell_type": "code",
   "execution_count": null,
   "id": "77d09942-cd4e-4eeb-a0c3-551799ad6b01",
   "metadata": {},
   "outputs": [],
   "source": []
  }
 ],
 "metadata": {
  "kernelspec": {
   "display_name": "Python 3 (ipykernel)",
   "language": "python",
   "name": "python3"
  },
  "language_info": {
   "codemirror_mode": {
    "name": "ipython",
    "version": 3
   },
   "file_extension": ".py",
   "mimetype": "text/x-python",
   "name": "python",
   "nbconvert_exporter": "python",
   "pygments_lexer": "ipython3",
   "version": "3.10.7"
  }
 },
 "nbformat": 4,
 "nbformat_minor": 5
}
